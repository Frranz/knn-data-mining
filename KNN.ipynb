{
 "cells": [
  {
   "cell_type": "markdown",
   "metadata": {},
   "source": [
    "# Erstellen von KNN-Klassifizierungsmodellen"
   ]
  },
  {
   "cell_type": "code",
   "execution_count": 27,
   "metadata": {},
   "outputs": [],
   "source": [
    "from sklearn.neighbors import KNeighborsClassifier\n",
    "from sklearn.model_selection import train_test_split\n",
    "from sklearn.datasets import load_breast_cancer\n",
    "from sklearn.model_selection import train_test_split\n",
    "from sklearn.metrics import accuracy_score, confusion_matrix\n",
    "\n",
    "from copy import copy\n",
    "\n",
    "import seaborn as sns; sns.set()\n",
    "import pandas as pd\n",
    "import numpy as np"
   ]
  },
  {
   "cell_type": "markdown",
   "metadata": {},
   "source": [
    "### Daten zu gutartigen (benign) und bösartigen (malignant) Tumoren"
   ]
  },
  {
   "cell_type": "code",
   "execution_count": 2,
   "metadata": {},
   "outputs": [],
   "source": [
    "t = sns.load_dataset(\"tips\")\n",
    "\n",
    "#intialize test data\n",
    "rawData = [[2,3,\"benign\"],[5,1,\"benign\"],[6,1,\"benign\"],[6,2,\"benign\"],[7,2,\"benign\"],[5,3,\"benign\"],[7,4,\"benign\"],[1,1,\"malignant\"],[2,2,\"malignant\"],[1,3,\"malignant\"],[1,4,\"malignant\"],[3,4,\"malignant\"],[5,2,\"malignant\"],[6,3,\"malignant\"]]\n",
    "df = pd.DataFrame(data=rawData, columns=[\"age\",\"size\",\"type\"]) "
   ]
  },
  {
   "cell_type": "code",
   "execution_count": 3,
   "metadata": {
    "scrolled": true
   },
   "outputs": [
    {
     "data": {
      "text/plain": [
       "<matplotlib.axes._subplots.AxesSubplot at 0x209596cf848>"
      ]
     },
     "execution_count": 3,
     "metadata": {},
     "output_type": "execute_result"
    },
    {
     "data": {
      "image/png": "[encoded data removed]",
      "text/plain": [
       "<Figure size 432x288 with 1 Axes>"
      ]
     },
     "metadata": {
      "needs_background": "light"
     },
     "output_type": "display_data"
    }
   ],
   "source": [
    "sns.scatterplot(x=\"age\",y=\"size\",data=df,hue=\"type\",s=70)"
   ]
  },
  {
   "cell_type": "markdown",
   "metadata": {},
   "source": [
    "### Wie würde KNN den folgenden Punkt zuordnen?"
   ]
  },
  {
   "cell_type": "code",
   "execution_count": 5,
   "metadata": {
    "scrolled": false
   },
   "outputs": [
    {
     "data": {
      "text/plain": [
       "<matplotlib.axes._subplots.AxesSubplot at 0x20959915d48>"
      ]
     },
     "execution_count": 5,
     "metadata": {},
     "output_type": "execute_result"
    },
    {
     "data": {
      "image/png": "[encoded data removed]",
      "text/plain": [
       "<Figure size 432x288 with 1 Axes>"
      ]
     },
     "metadata": {
      "needs_background": "light"
     },
     "output_type": "display_data"
    }
   ],
   "source": [
    "unknData = copy(rawData)\n",
    "unknData.append([6,4,\"Unknown\"])\n",
    "unkn = pd.DataFrame(data=unknData, columns=[\"age\",\"size\",\"type\"])\n",
    "\n",
    "sns.scatterplot(x=\"age\",y=\"size\",hue=\"type\",data=unkn)"
   ]
  },
  {
   "cell_type": "markdown",
   "metadata": {},
   "source": [
    "### KNN untersucht, ob im Umfeld von unserem unbekannten Punkt die K nähesten Nachbarn von bösartig oder gutartig den geringsten Abstand haben\n",
    "Da wir als K mit 2 initialisiert haben, sind die nähesten Nachbarn vom Punkt (6,4): <br>\n",
    "gutartig: (5,3) und (7,4) Gesamtabstand: 2,41 <br>\n",
    "bösartig: (6,3) und (5,2) Gesamtabstand: 2,73 <br>\n",
    "==> somit wird der Punkt (6,4) als gutartig klassifiziert"
   ]
  },
  {
   "cell_type": "code",
   "execution_count": 11,
   "metadata": {},
   "outputs": [
    {
     "data": {
      "text/plain": [
       "'benign'"
      ]
     },
     "execution_count": 11,
     "metadata": {},
     "output_type": "execute_result"
    }
   ],
   "source": [
    "#train data on given set\n",
    "x = df.loc[df['age']<10,[\"age\",\"size\"]].to_numpy()\n",
    "y = df.loc[df['age']<10,\"type\"].to_numpy()\n",
    "knn = KNeighborsClassifier(n_neighbors=2)\n",
    "knn = knn.fit(x,y)\n",
    "knn.predict([[6,4]])[0]"
   ]
  },
  {
   "cell_type": "markdown",
   "metadata": {},
   "source": [
    "### Anpassung des Algorithmus<br>\n",
    "Die Anzahl der erforderlichen nähesten Nachbarn kann beliebig angepasst werden. <br><br>\n",
    "Hierbei ist jedoch vorsicht geboten. Wählt man die Zahl zu niedrig, reagiert das Model sehr empfindlich auf Ausreiser. So könnte es in unserem Beispiel mit k=1 passieren, dass ein Punkt (2,3.5) als bösartig klassifiziert würde, obwohl sich deutlich mehr gutartige Tumore in seinem Umfeld befinden.<br><br>\n",
    "Wählt man k zu hoch, wird das Model überangepasst auf die Trainingsdaten"
   ]
  },
  {
   "cell_type": "markdown",
   "metadata": {},
   "source": [
    "## Testen des Algorithmus auf dem SciKitLearn Brustkrebs Datensatz"
   ]
  },
  {
   "cell_type": "code",
   "execution_count": 57,
   "metadata": {},
   "outputs": [
    {
     "name": "stdout",
     "output_type": "stream",
     "text": [
      "test-size: 114\n",
      "false_negative: 2\n",
      "false_positive: 4\n",
      "true_negative: 38\n",
      "true_positive: 70\n",
      "accuracy: 0.947\n"
     ]
    }
   ],
   "source": [
    "data = load_breast_cancer()\n",
    "x_train, x_test, y_train, y_test = train_test_split(data.data, data.target, test_size=0.2, random_state=1)\n",
    "knn = KNeighborsClassifier(n_neighbors=8)\n",
    "knn = knn.fit(x_train,y_train)\n",
    "pred = knn.predict(x_test)\n",
    "\n",
    "conf_mat = confusion_matrix(y_test,pred).flatten()\n",
    "true_negative,false_positive,false_negative,true_positive = np.array(conf_mat,dtype='f')\n",
    "accuracy = (true_negative + true_positive) / len(y_test)\n",
    "\n",
    "print(\"test-size: {0:.0f}\".format(len(y_test)))\n",
    "print(\"false_negative: {0:.0f}\".format(false_negative))\n",
    "print(\"false_positive: {0:.0f}\".format(false_positive))\n",
    "print(\"true_negative: {0:.0f}\".format(true_negative))\n",
    "print(\"true_positive: {0:.0f}\".format(true_positive))\n",
    "print(\"accuracy: {0:.3f}\".format(accuracy))\n",
    "        "
   ]
  },
  {
   "cell_type": "code",
   "execution_count": null,
   "metadata": {},
   "outputs": [],
   "source": []
  }
 ],
 "metadata": {
  "kernelspec": {
   "display_name": "Python 3",
   "language": "python",
   "name": "python3"
  },
  "language_info": {
   "codemirror_mode": {
    "name": "ipython",
    "version": 3
   },
   "file_extension": ".py",
   "mimetype": "text/x-python",
   "name": "python",
   "nbconvert_exporter": "python",
   "pygments_lexer": "ipython3",
   "version": "3.7.4"
  }
 },
 "nbformat": 4,
 "nbformat_minor": 2
}
